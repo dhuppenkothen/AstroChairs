{
 "cells": [
  {
   "cell_type": "markdown",
   "metadata": {},
   "source": [
    "# Conference Session Scheduling using Graphs\n",
    "\n",
    "The basic problem: given a large conference with several parallel sessions, how can we schedule sessions in such a way that those of the same topic do not occur in the same time slot? \n",
    "\n",
    "Terminology:\n",
    "* **session $s$**: a single conference session of a given topic\n",
    "* **time slot $t$**: the date/time at which a session could occur\n",
    "* **rooms $r$**: the number of available slots for sessions in each time slot\n",
    "\n",
    "There will be $T$ time slots in the conference and $R$ rooms per time slot, allowing for a total of $S = RT$ sessions to be scheduled. \n",
    "\n",
    "The simplest version of the problem is the following: each session has a topic $c$ associated with it. No two sessions with the same topic may be scheduled at the same time. In a less constrained version of the problem, each session may have $n$ different topics $c$ associated with it, in decreasing order of importance. We wish to solve such that sessions who have the same topic at the first position are unlikely to be scheduled at the same time, but that for each topic down the ranked list, the constraint of co-scheduling two sessions with the same two topics at that position becomes increasingly less important.\n",
    "\n",
    "Either way, we are going to build a graph to solve this problem. For this graph, we take all sessions in $S$ as nodes and draw edges $e$ between all sessions that may co-exist in the same time slot. For the simple version of the problem, the edges will have weight $1$ if the topics are different (i.e. both sessions may coexist in the same time slot) and $0$ otherwise. The problem then reduces to finding closed loops in this graph. \n",
    "For a conference with three parallel sessions, we would like to find triangles in this graph (corresponding to three nodes (i.e. sessions) that may all coexist with each other in the same time slot). For conferences with more parallel session, one must choose correspondingly longer paths. \n",
    "\n",
    "We can choose an iterative approach to brute-force the selection: \n",
    "* find all available triangles and order them in some way\n",
    "* pick the first triangle, remove from the graph, do the same thing again\n",
    "* recurse\n",
    "* if we end up with a solution that leaves no sessions unscheduled, we're done\n",
    "* if not, back up a step, recurse again, or back up one step further, recurse again\n",
    "\n",
    "Note: in the strict problem with only one topic, there may be no complete solutions. We probably need to account for that somehow.\n",
    "In the problem with various topics of different and decreasing importance, we will have multiple edges between nodes, each of which will be one if the edge exists, and different (small) fractions if the edge doesn't exist. Maybe, for the most important topic, it will be zero. For the second, slightly less important topic, it might be 0.1, and so forth. We will multiply all weights together to get a total weight that depends on all topics.\n",
    "Then, we find all triangles and add up the weights, and order them by weight from largest to smallest. The rest of the procedure follows as before.\n"
   ]
  },
  {
   "cell_type": "code",
   "execution_count": 1,
   "metadata": {
    "collapsed": true
   },
   "outputs": [],
   "source": [
    "%matplotlib inline\n",
    "import matplotlib.pyplot as plt\n",
    "import seaborn as sns\n",
    "\n",
    "import numpy as np\n",
    "import networkx as nx\n"
   ]
  },
  {
   "cell_type": "markdown",
   "metadata": {},
   "source": [
    "Let's make a graph:"
   ]
  },
  {
   "cell_type": "code",
   "execution_count": 100,
   "metadata": {
    "collapsed": true
   },
   "outputs": [],
   "source": [
    "G=nx.Graph()"
   ]
  },
  {
   "cell_type": "markdown",
   "metadata": {},
   "source": [
    "Okay, let's start with an example. We are going to have five time slots and three rooms, that gives us a total of fifteen session. We will also have six different session types, and we're going to pick them randomly."
   ]
  },
  {
   "cell_type": "code",
   "execution_count": 101,
   "metadata": {
    "collapsed": true
   },
   "outputs": [],
   "source": [
    "## set the random seed\n",
    "np.random.seed(20160110)"
   ]
  },
  {
   "cell_type": "code",
   "execution_count": 102,
   "metadata": {
    "collapsed": false
   },
   "outputs": [
    {
     "name": "stdout",
     "output_type": "stream",
     "text": [
      "all the session labels:['compact_objects' 'compact_objects' 'agn' 'agn' 'stars' 'cosmology'\n",
      " 'exoplanets' 'cosmology' 'cosmology' 'compact_objects' 'agn' 'cosmology'\n",
      " 'cosmology' 'galaxies' 'exoplanets']\n"
     ]
    }
   ],
   "source": [
    "## make a list of indices\n",
    "sessions = np.arange(15)\n",
    "\n",
    "## session topics:\n",
    "topics = [\"exoplanets\", \"galaxies\", \"cosmology\", \"compact_objects\", \"agn\", \"stars\"]\n",
    "\n",
    "## randomly select the session labels:\n",
    "session_labels = np.random.choice(topics, size=sessions.shape[0])\n",
    "\n",
    "print(\"all the session labels:\" + str(session_labels))"
   ]
  },
  {
   "cell_type": "markdown",
   "metadata": {},
   "source": [
    "Now we can set the nodes of the graph:"
   ]
  },
  {
   "cell_type": "code",
   "execution_count": 103,
   "metadata": {
    "collapsed": false
   },
   "outputs": [],
   "source": [
    "for s,l in zip(sessions, session_labels):\n",
    "    G.add_node(s, topic=l)"
   ]
  },
  {
   "cell_type": "code",
   "execution_count": 104,
   "metadata": {
    "collapsed": false
   },
   "outputs": [
    {
     "data": {
      "text/plain": [
       "'compact_objects'"
      ]
     },
     "execution_count": 104,
     "metadata": {},
     "output_type": "execute_result"
    }
   ],
   "source": [
    "G.node[1][\"topic\"]"
   ]
  },
  {
   "cell_type": "markdown",
   "metadata": {},
   "source": [
    "Now we can also add weights to the edges. We'll add an edge with weight $1$ if the topics are not the same and no weight if the topics are the same:"
   ]
  },
  {
   "cell_type": "code",
   "execution_count": 105,
   "metadata": {
    "collapsed": true
   },
   "outputs": [],
   "source": [
    "for i in sessions:\n",
    "    for j in sessions:\n",
    "        if session_labels[i] == session_labels[j]:\n",
    "            continue\n",
    "        else:\n",
    "            G.add_edge(i,j,weight=1.0)"
   ]
  },
  {
   "cell_type": "code",
   "execution_count": 106,
   "metadata": {
    "collapsed": false
   },
   "outputs": [
    {
     "data": {
      "image/png": "[encoded data removed]",
      "text/plain": [
       "<matplotlib.figure.Figure at 0x1160f7f10>"
      ]
     },
     "metadata": {},
     "output_type": "display_data"
    }
   ],
   "source": [
    "nx.draw(G)"
   ]
  },
  {
   "cell_type": "markdown",
   "metadata": {},
   "source": [
    "So now that we have the graph, let's solve our first problem: find all triangles:"
   ]
  },
  {
   "cell_type": "code",
   "execution_count": 107,
   "metadata": {
    "collapsed": false
   },
   "outputs": [],
   "source": [
    "cliques = list(nx.enumerate_all_cliques(G))"
   ]
  },
  {
   "cell_type": "code",
   "execution_count": 108,
   "metadata": {
    "collapsed": false
   },
   "outputs": [
    {
     "name": "stdout",
     "output_type": "stream",
     "text": [
      "[[0, 2, 4], [0, 2, 5], [0, 2, 6], [0, 2, 7], [0, 2, 8], [0, 2, 11], [0, 2, 12], [0, 2, 13], [0, 2, 14], [0, 3, 4], [0, 3, 5], [0, 3, 6], [0, 3, 7], [0, 3, 8], [0, 3, 11], [0, 3, 12], [0, 3, 13], [0, 3, 14], [0, 4, 5], [0, 4, 6], [0, 4, 7], [0, 4, 8], [0, 4, 10], [0, 4, 11], [0, 4, 12], [0, 4, 13], [0, 4, 14], [0, 5, 6], [0, 5, 10], [0, 5, 13], [0, 5, 14], [0, 6, 7], [0, 6, 8], [0, 6, 10], [0, 6, 11], [0, 6, 12], [0, 6, 13], [0, 7, 10], [0, 7, 13], [0, 7, 14], [0, 8, 10], [0, 8, 13], [0, 8, 14], [0, 10, 11], [0, 10, 12], [0, 10, 13], [0, 10, 14], [0, 11, 13], [0, 11, 14], [0, 12, 13], [0, 12, 14], [0, 13, 14], [1, 2, 4], [1, 2, 5], [1, 2, 6], [1, 2, 7], [1, 2, 8], [1, 2, 11], [1, 2, 12], [1, 2, 13], [1, 2, 14], [1, 3, 4], [1, 3, 5], [1, 3, 6], [1, 3, 7], [1, 3, 8], [1, 3, 11], [1, 3, 12], [1, 3, 13], [1, 3, 14], [1, 4, 5], [1, 4, 6], [1, 4, 7], [1, 4, 8], [1, 4, 10], [1, 4, 11], [1, 4, 12], [1, 4, 13], [1, 4, 14], [1, 5, 6], [1, 5, 10], [1, 5, 13], [1, 5, 14], [1, 6, 7], [1, 6, 8], [1, 6, 10], [1, 6, 11], [1, 6, 12], [1, 6, 13], [1, 7, 10], [1, 7, 13], [1, 7, 14], [1, 8, 10], [1, 8, 13], [1, 8, 14], [1, 10, 11], [1, 10, 12], [1, 10, 13], [1, 10, 14], [1, 11, 13], [1, 11, 14], [1, 12, 13], [1, 12, 14], [1, 13, 14], [2, 4, 5], [2, 4, 6], [2, 4, 7], [2, 4, 8], [2, 4, 9], [2, 4, 11], [2, 4, 12], [2, 4, 13], [2, 4, 14], [2, 5, 6], [2, 5, 9], [2, 5, 13], [2, 5, 14], [2, 6, 7], [2, 6, 8], [2, 6, 9], [2, 6, 11], [2, 6, 12], [2, 6, 13], [2, 7, 9], [2, 7, 13], [2, 7, 14], [2, 8, 9], [2, 8, 13], [2, 8, 14], [2, 9, 11], [2, 9, 12], [2, 9, 13], [2, 9, 14], [2, 11, 13], [2, 11, 14], [2, 12, 13], [2, 12, 14], [2, 13, 14], [3, 4, 5], [3, 4, 6], [3, 4, 7], [3, 4, 8], [3, 4, 9], [3, 4, 11], [3, 4, 12], [3, 4, 13], [3, 4, 14], [3, 5, 6], [3, 5, 9], [3, 5, 13], [3, 5, 14], [3, 6, 7], [3, 6, 8], [3, 6, 9], [3, 6, 11], [3, 6, 12], [3, 6, 13], [3, 7, 9], [3, 7, 13], [3, 7, 14], [3, 8, 9], [3, 8, 13], [3, 8, 14], [3, 9, 11], [3, 9, 12], [3, 9, 13], [3, 9, 14], [3, 11, 13], [3, 11, 14], [3, 12, 13], [3, 12, 14], [3, 13, 14], [4, 5, 6], [4, 5, 9], [4, 5, 10], [4, 5, 13], [4, 5, 14], [4, 6, 7], [4, 6, 8], [4, 6, 9], [4, 6, 10], [4, 6, 11], [4, 6, 12], [4, 6, 13], [4, 7, 9], [4, 7, 10], [4, 7, 13], [4, 7, 14], [4, 8, 9], [4, 8, 10], [4, 8, 13], [4, 8, 14], [4, 9, 10], [4, 9, 11], [4, 9, 12], [4, 9, 13], [4, 9, 14], [4, 10, 11], [4, 10, 12], [4, 10, 13], [4, 10, 14], [4, 11, 13], [4, 11, 14], [4, 12, 13], [4, 12, 14], [4, 13, 14], [5, 6, 9], [5, 6, 10], [5, 6, 13], [5, 9, 10], [5, 9, 13], [5, 9, 14], [5, 10, 13], [5, 10, 14], [5, 13, 14], [6, 7, 9], [6, 7, 10], [6, 7, 13], [6, 8, 9], [6, 8, 10], [6, 8, 13], [6, 9, 10], [6, 9, 11], [6, 9, 12], [6, 9, 13], [6, 10, 11], [6, 10, 12], [6, 10, 13], [6, 11, 13], [6, 12, 13], [7, 9, 10], [7, 9, 13], [7, 9, 14], [7, 10, 13], [7, 10, 14], [7, 13, 14], [8, 9, 10], [8, 9, 13], [8, 9, 14], [8, 10, 13], [8, 10, 14], [8, 13, 14], [9, 10, 11], [9, 10, 12], [9, 10, 13], [9, 10, 14], [9, 11, 13], [9, 11, 14], [9, 12, 13], [9, 12, 14], [9, 13, 14], [10, 11, 13], [10, 11, 14], [10, 12, 13], [10, 12, 14], [10, 13, 14], [11, 13, 14], [12, 13, 14]]\n"
     ]
    }
   ],
   "source": [
    "cliques = [c for c in cliques if len(c)==3]\n",
    "print(cliques)"
   ]
  },
  {
   "cell_type": "markdown",
   "metadata": {},
   "source": [
    "Awesome, now we can do this recursively:"
   ]
  },
  {
   "cell_type": "code",
   "execution_count": 239,
   "metadata": {
    "collapsed": false
   },
   "outputs": [],
   "source": [
    "import copy\n",
    "\n",
    "def add_edges(G):\n",
    "    sessions = G.nodes()\n",
    "    session_labels = [G.node[i][\"topic\"] for i in G.nodes()]\n",
    "    nsessions = len(sessions)\n",
    "    #print(len(sessions))\n",
    "    #print(len(session_labels))\n",
    "    for i in xrange(nsessions):\n",
    "        for j in xrange(nsessions):\n",
    "            if session_labels[i] == session_labels[j]:\n",
    "                continue\n",
    "            else:\n",
    "                G.add_edge(sessions[i],sessions[j],weight=1.0)\n",
    "    return G\n",
    "\n",
    "triangles = []\n",
    "n_unused = len(sessions)\n",
    "\n",
    "def recursively_select_triangles(triangles, G, n_unused):\n",
    "\n",
    "    cliques = list(nx.enumerate_all_cliques(G))\n",
    "    cliques = [c for c in cliques if len(c)==3]\n",
    "    ncliques = len(cliques)\n",
    "    \n",
    "    if ncliques == 0:\n",
    "        tnew = triangles.pop(np.random.choice(np.arange(len(triangles))))\n",
    "        G_new = copy.deepcopy(G)\n",
    "        for t in tnew:\n",
    "            G_new.add_node(t[0], topic=t[1])\n",
    "\n",
    "        G_new = add_edges(G_new)\n",
    "        n_unused = G_new.number_of_nodes()\n",
    "        return recursively_select_triangles(triangles, G_new, n_unused)\n",
    "    \n",
    "    index = np.random.choice(np.arange(len(cliques)))\n",
    "    tnew = cliques[index]\n",
    "    tnew_topics = [G.node[c][\"topic\"] for c in tnew]\n",
    "    triangles.append(zip(tnew, tnew_topics))\n",
    "    G_new = copy.deepcopy(G)\n",
    "    for n in cliques[index]:\n",
    "        G_new.remove_node(n)\n",
    "    \n",
    "    n_unused = G_new.number_of_nodes()\n",
    "    \n",
    "    if n_unused == 0:\n",
    "        return triangles\n",
    "    else:\n",
    "        return recursively_select_triangles(triangles, G_new, n_unused)\n",
    "        \n"
   ]
  },
  {
   "cell_type": "code",
   "execution_count": 259,
   "metadata": {
    "collapsed": false,
    "scrolled": true
   },
   "outputs": [],
   "source": [
    "triangles = []\n",
    "triangles = recursively_select_triangles(triangles, G, n_unused)"
   ]
  },
  {
   "cell_type": "code",
   "execution_count": 260,
   "metadata": {
    "collapsed": false
   },
   "outputs": [
    {
     "data": {
      "text/plain": [
       "[[(4, 'stars'), (7, 'cosmology'), (10, 'agn')],\n",
       " [(1, 'compact_objects'), (6, 'exoplanets'), (8, 'cosmology')],\n",
       " [(2, 'agn'), (12, 'cosmology'), (13, 'galaxies')],\n",
       " [(5, 'cosmology'), (9, 'compact_objects'), (14, 'exoplanets')],\n",
       " [(0, 'compact_objects'), (3, 'agn'), (11, 'cosmology')]]"
      ]
     },
     "execution_count": 260,
     "metadata": {},
     "output_type": "execute_result"
    }
   ],
   "source": [
    "triangles"
   ]
  },
  {
   "cell_type": "markdown",
   "metadata": {},
   "source": [
    "Okay, cool! That seems to work in principle. I think I'll probably need some checks and balances in the future, but the basic framework is there. \n",
    "\n",
    "Let's clean that up a little:"
   ]
  },
  {
   "cell_type": "code",
   "execution_count": 335,
   "metadata": {
    "collapsed": false
   },
   "outputs": [],
   "source": [
    "def add_edges(G, label=\"topic\"):\n",
    "    sessions = G.nodes()\n",
    "    session_labels = [G.node[i][label] for i in G.nodes()]\n",
    "    nsessions = len(sessions)\n",
    "    for i in xrange(nsessions):\n",
    "        for j in xrange(nsessions):\n",
    "            if session_labels[i] == session_labels[j]:\n",
    "                continue\n",
    "            else:\n",
    "                G.add_edge(sessions[i],sessions[j],weight=1.0)\n",
    "    return G\n",
    "\n",
    "groups = []\n",
    "n_unused = len(sessions)\n",
    "n_counter = 0\n",
    "def recursively_select_groups(G, groups, n_unused, n_elements, n_counter=0, label=\"topic\"):\n",
    "    \"\"\"\n",
    "    This function recursively splits up the available graph G into \n",
    "    cliques of n_elements members. Note: this will probably break if \n",
    "    there is no solution, so I should add a check for that!\n",
    "    \n",
    "    Parameters\n",
    "    ----------\n",
    "    G : networkx.Graph instance\n",
    "        The graph containing the data (session number, topic)\n",
    "    \n",
    "    groups : list of lists\n",
    "        The list containing all final cliques of the solution\n",
    "    \n",
    "    n_unused : int\n",
    "        A variable counting the number of unused nodes in the graph\n",
    "        \n",
    "    n_elements : int\n",
    "        The number of elements in each clique\n",
    "    \n",
    "    label : string, default \"topic\"\n",
    "        The label describing each node in the graph\n",
    "        \n",
    "    Returns\n",
    "    -------\n",
    "    groups: The list containing all final cliques of the solution\n",
    "    \n",
    "    \"\"\"\n",
    "    n_counter += 1\n",
    "    \n",
    "    if n_counter > 200:\n",
    "        print(\"No full solution found!\")\n",
    "        remainder = G.nodes()\n",
    "        return groups, remainder\n",
    "    \n",
    "    ## TODO: add assertion that X*n_elements == G.number_of_nodes()\n",
    "    assert G.number_of_nodes() % np.float(n_elements) == 0, \"Number of sessions must be \" + \\\n",
    "                                \"an integer multiple of n_elements\"\n",
    "    \n",
    "    ## find all cliques in the graph G\n",
    "    cliques = list(nx.enumerate_all_cliques(G))\n",
    "    \n",
    "    ## find all cliques that have the required number of elements\n",
    "    cliques = [c for c in cliques if len(c)==n_elements]\n",
    "    \n",
    "    ## find the total number of cliques with n_elements members\n",
    "    ncliques = len(cliques)\n",
    "    \n",
    "    ## if there are no cliques, back up a step:\n",
    "    if ncliques == 0:\n",
    "        ## pick an already selected clique at random:\n",
    "        index = np.random.choice(np.arange(len(groups)))\n",
    "        ## take out the selected group\n",
    "        tnew = groups.pop(index)\n",
    "        ## add it back to the graph\n",
    "        G_new = copy.deepcopy(G)\n",
    "        for t in tnew:\n",
    "            G_new.add_node(t[0], topic=t[1])\n",
    "            \n",
    "        ## add the edges back to the graph\n",
    "        G_new = add_edges(G_new)\n",
    "        \n",
    "        ## new unused number of nodes\n",
    "        n_unused = G_new.number_of_nodes()\n",
    "        ## recurse\n",
    "        return recursively_select_groups(G_new, groups, n_unused, n_elements, n_counter, label=label)\n",
    "    \n",
    "    ## pick a new clique at random:\n",
    "    index = np.random.choice(np.arange(len(cliques)))\n",
    "    ## extract the clique number and label\n",
    "    tnew = cliques[index]\n",
    "    tnew_topics = [G.node[c][\"topic\"] for c in tnew]\n",
    "    \n",
    "    ## add the new clique to the list of output groups\n",
    "    groups.append(zip(tnew, tnew_topics))\n",
    "    G_new = copy.deepcopy(G)\n",
    "    \n",
    "    ## remove clique from graph\n",
    "    for n in cliques[index]:\n",
    "        G_new.remove_node(n)\n",
    "    \n",
    "    ## compute new unused number of nodes\n",
    "    n_unused = G_new.number_of_nodes()\n",
    "    \n",
    "    ## if no unused nodes are left, return the selected groups,\n",
    "    ## otherwise recurse\n",
    "    if n_unused == 0:\n",
    "        remainder = []\n",
    "        return groups, remainder\n",
    "    else:\n",
    "        return recursively_select_groups(G_new, groups, n_unused, n_elements, n_counter, label=label)\n",
    "        \n"
   ]
  },
  {
   "cell_type": "code",
   "execution_count": 336,
   "metadata": {
    "collapsed": false
   },
   "outputs": [
    {
     "name": "stdout",
     "output_type": "stream",
     "text": [
      "No full solution found!\n"
     ]
    }
   ],
   "source": [
    "groups = []\n",
    "groups, remainder = recursively_select_groups(G, groups, n_unused, n_elements=5, label=\"topic\")"
   ]
  },
  {
   "cell_type": "code",
   "execution_count": 337,
   "metadata": {
    "collapsed": false
   },
   "outputs": [
    {
     "data": {
      "text/plain": [
       "[[(2, 'agn'),\n",
       "  (6, 'exoplanets'),\n",
       "  (9, 'compact_objects'),\n",
       "  (11, 'cosmology'),\n",
       "  (13, 'galaxies')],\n",
       " [(0, 'compact_objects'),\n",
       "  (3, 'agn'),\n",
       "  (4, 'stars'),\n",
       "  (7, 'cosmology'),\n",
       "  (14, 'exoplanets')]]"
      ]
     },
     "execution_count": 337,
     "metadata": {},
     "output_type": "execute_result"
    }
   ],
   "source": [
    "groups"
   ]
  },
  {
   "cell_type": "markdown",
   "metadata": {},
   "source": [
    "### Searching for groups with proper back-tracking\n",
    "\n",
    "In order to find the solution, I should probably do the backtracking properly.\n",
    "\n",
    "Also, I'm going to need a version of `add_edges` that works with a variable number of labels.\n",
    "Let's do that first:"
   ]
  },
  {
   "cell_type": "code",
   "execution_count": 411,
   "metadata": {
    "collapsed": true
   },
   "outputs": [],
   "source": [
    "def add_edges(G, labels, minweight=0.1, maxweight=0.9):\n",
    "    \n",
    "    ## find the total number of labels\n",
    "    nlabels = len(labels)\n",
    "    print(nlabels)\n",
    "\n",
    "    ## get a list of lists of all session labels\n",
    "    session_labels = []\n",
    "    for l in labels:\n",
    "        session_labels.append([G.node[i][l] for i in G.nodes()])\n",
    "    \n",
    "    ## the total number of sessions\n",
    "    nsessions = len(sessions)\n",
    "    \n",
    "    ## weights for the different attributes\n",
    "    weights = np.linspace(minweight, maxweight, nlabels-1)\n",
    "    \n",
    "    ## iterate over all the different possible labels \n",
    "    for i, sl in enumerate(session_labels):\n",
    "        ## iterate over all nodes\n",
    "        for k in xrange(nsessions):\n",
    "            for l in xrange(nsessions):\n",
    "                ## if sessions have the same label, \n",
    "                ## either make no node (for first label), \n",
    "                ## or weaken a node that's already there\n",
    "                if sl[k] == sl[l]:\n",
    "                    if i == 0 or G.node[k][labels[0]] == G.node[l][labels[0]]:\n",
    "                        continue\n",
    "                    else:\n",
    "                        G[k][l][\"weight\"] *= weights[i-1]\n",
    "                else:\n",
    "                    if i == 0:\n",
    "                        G.add_edge(sessions[k],sessions[l],weight=1.0)\n",
    "                    else:\n",
    "                        continue\n",
    "    return G\n",
    "\n"
   ]
  },
  {
   "cell_type": "code",
   "execution_count": 412,
   "metadata": {
    "collapsed": false
   },
   "outputs": [],
   "source": [
    "G.remove_edges_from(G.edges())"
   ]
  },
  {
   "cell_type": "code",
   "execution_count": 413,
   "metadata": {
    "collapsed": false
   },
   "outputs": [
    {
     "name": "stdout",
     "output_type": "stream",
     "text": [
      "2\n",
      "weights: [ 0.1]\n"
     ]
    }
   ],
   "source": [
    "G = add_edges(G, labels=[\"topic\", \"topic2\"])"
   ]
  },
  {
   "cell_type": "code",
   "execution_count": 414,
   "metadata": {
    "collapsed": false
   },
   "outputs": [
    {
     "data": {
      "text/plain": [
       "[(0, {'topic': 'compact_objects', 'topic2': 'galaxies'}),\n",
       " (1, {'topic': 'compact_objects', 'topic2': 'cosmology'}),\n",
       " (2, {'topic': 'agn', 'topic2': 'stars'}),\n",
       " (3, {'topic': 'agn', 'topic2': 'stars'}),\n",
       " (4, {'topic': 'stars', 'topic2': 'stars'}),\n",
       " (5, {'topic': 'cosmology', 'topic2': 'agn'}),\n",
       " (6, {'topic': 'exoplanets', 'topic2': 'cosmology'}),\n",
       " (7, {'topic': 'cosmology', 'topic2': 'compact_objects'}),\n",
       " (8, {'topic': 'cosmology', 'topic2': 'cosmology'}),\n",
       " (9, {'topic': 'compact_objects', 'topic2': 'galaxies'}),\n",
       " (10, {'topic': 'agn', 'topic2': 'cosmology'}),\n",
       " (11, {'topic': 'cosmology', 'topic2': 'exoplanets'}),\n",
       " (12, {'topic': 'cosmology', 'topic2': 'exoplanets'}),\n",
       " (13, {'topic': 'galaxies', 'topic2': 'exoplanets'}),\n",
       " (14, {'topic': 'exoplanets', 'topic2': 'exoplanets'})]"
      ]
     },
     "execution_count": 414,
     "metadata": {},
     "output_type": "execute_result"
    }
   ],
   "source": [
    "G.nodes(data=True)"
   ]
  },
  {
   "cell_type": "code",
   "execution_count": 415,
   "metadata": {
    "collapsed": false
   },
   "outputs": [
    {
     "name": "stdout",
     "output_type": "stream",
     "text": [
      "(0, 2, 1.000, galaxies, stars)\n",
      "(0, 3, 1.000, galaxies, stars)\n",
      "(0, 4, 1.000, galaxies, stars)\n",
      "(0, 5, 1.000, galaxies, agn)\n",
      "(0, 6, 1.000, galaxies, cosmology)\n",
      "(0, 7, 1.000, galaxies, compact_objects)\n",
      "(0, 8, 1.000, galaxies, cosmology)\n",
      "(0, 10, 1.000, galaxies, cosmology)\n",
      "(0, 11, 1.000, galaxies, exoplanets)\n",
      "(0, 12, 1.000, galaxies, exoplanets)\n",
      "(0, 13, 1.000, galaxies, exoplanets)\n",
      "(0, 14, 1.000, galaxies, exoplanets)\n",
      "(1, 2, 1.000, cosmology, stars)\n",
      "(1, 3, 1.000, cosmology, stars)\n",
      "(1, 4, 1.000, cosmology, stars)\n",
      "(1, 5, 1.000, cosmology, agn)\n",
      "(1, 6, 0.010, cosmology, cosmology)\n",
      "(1, 7, 1.000, cosmology, compact_objects)\n",
      "(1, 8, 0.010, cosmology, cosmology)\n",
      "(1, 10, 0.010, cosmology, cosmology)\n",
      "(1, 11, 1.000, cosmology, exoplanets)\n",
      "(1, 12, 1.000, cosmology, exoplanets)\n",
      "(1, 13, 1.000, cosmology, exoplanets)\n",
      "(1, 14, 1.000, cosmology, exoplanets)\n",
      "(2, 0, 1.000, stars, galaxies)\n",
      "(2, 1, 1.000, stars, cosmology)\n",
      "(2, 4, 0.010, stars, stars)\n",
      "(2, 5, 1.000, stars, agn)\n",
      "(2, 6, 1.000, stars, cosmology)\n",
      "(2, 7, 1.000, stars, compact_objects)\n",
      "(2, 8, 1.000, stars, cosmology)\n",
      "(2, 9, 1.000, stars, galaxies)\n",
      "(2, 11, 1.000, stars, exoplanets)\n",
      "(2, 12, 1.000, stars, exoplanets)\n",
      "(2, 13, 1.000, stars, exoplanets)\n",
      "(2, 14, 1.000, stars, exoplanets)\n",
      "(3, 0, 1.000, stars, galaxies)\n",
      "(3, 1, 1.000, stars, cosmology)\n",
      "(3, 4, 0.010, stars, stars)\n",
      "(3, 5, 1.000, stars, agn)\n",
      "(3, 6, 1.000, stars, cosmology)\n",
      "(3, 7, 1.000, stars, compact_objects)\n",
      "(3, 8, 1.000, stars, cosmology)\n",
      "(3, 9, 1.000, stars, galaxies)\n",
      "(3, 11, 1.000, stars, exoplanets)\n",
      "(3, 12, 1.000, stars, exoplanets)\n",
      "(3, 13, 1.000, stars, exoplanets)\n",
      "(3, 14, 1.000, stars, exoplanets)\n",
      "(4, 0, 1.000, stars, galaxies)\n",
      "(4, 1, 1.000, stars, cosmology)\n",
      "(4, 2, 0.010, stars, stars)\n",
      "(4, 3, 0.010, stars, stars)\n",
      "(4, 5, 1.000, stars, agn)\n",
      "(4, 6, 1.000, stars, cosmology)\n",
      "(4, 7, 1.000, stars, compact_objects)\n",
      "(4, 8, 1.000, stars, cosmology)\n",
      "(4, 9, 1.000, stars, galaxies)\n",
      "(4, 10, 1.000, stars, cosmology)\n",
      "(4, 11, 1.000, stars, exoplanets)\n",
      "(4, 12, 1.000, stars, exoplanets)\n",
      "(4, 13, 1.000, stars, exoplanets)\n",
      "(4, 14, 1.000, stars, exoplanets)\n",
      "(5, 0, 1.000, agn, galaxies)\n",
      "(5, 1, 1.000, agn, cosmology)\n",
      "(5, 2, 1.000, agn, stars)\n",
      "(5, 3, 1.000, agn, stars)\n",
      "(5, 4, 1.000, agn, stars)\n",
      "(5, 6, 1.000, agn, cosmology)\n",
      "(5, 9, 1.000, agn, galaxies)\n",
      "(5, 10, 1.000, agn, cosmology)\n",
      "(5, 13, 1.000, agn, exoplanets)\n",
      "(5, 14, 1.000, agn, exoplanets)\n",
      "(6, 0, 1.000, cosmology, galaxies)\n",
      "(6, 1, 0.010, cosmology, cosmology)\n",
      "(6, 2, 1.000, cosmology, stars)\n",
      "(6, 3, 1.000, cosmology, stars)\n",
      "(6, 4, 1.000, cosmology, stars)\n",
      "(6, 5, 1.000, cosmology, agn)\n",
      "(6, 7, 1.000, cosmology, compact_objects)\n",
      "(6, 8, 0.010, cosmology, cosmology)\n",
      "(6, 9, 1.000, cosmology, galaxies)\n",
      "(6, 10, 0.010, cosmology, cosmology)\n",
      "(6, 11, 1.000, cosmology, exoplanets)\n",
      "(6, 12, 1.000, cosmology, exoplanets)\n",
      "(6, 13, 1.000, cosmology, exoplanets)\n",
      "(7, 0, 1.000, compact_objects, galaxies)\n",
      "(7, 1, 1.000, compact_objects, cosmology)\n",
      "(7, 2, 1.000, compact_objects, stars)\n",
      "(7, 3, 1.000, compact_objects, stars)\n",
      "(7, 4, 1.000, compact_objects, stars)\n",
      "(7, 6, 1.000, compact_objects, cosmology)\n",
      "(7, 9, 1.000, compact_objects, galaxies)\n",
      "(7, 10, 1.000, compact_objects, cosmology)\n",
      "(7, 13, 1.000, compact_objects, exoplanets)\n",
      "(7, 14, 1.000, compact_objects, exoplanets)\n",
      "(8, 0, 1.000, cosmology, galaxies)\n",
      "(8, 1, 0.010, cosmology, cosmology)\n",
      "(8, 2, 1.000, cosmology, stars)\n",
      "(8, 3, 1.000, cosmology, stars)\n",
      "(8, 4, 1.000, cosmology, stars)\n",
      "(8, 6, 0.010, cosmology, cosmology)\n",
      "(8, 9, 1.000, cosmology, galaxies)\n",
      "(8, 10, 0.010, cosmology, cosmology)\n",
      "(8, 13, 1.000, cosmology, exoplanets)\n",
      "(8, 14, 1.000, cosmology, exoplanets)\n",
      "(9, 2, 1.000, galaxies, stars)\n",
      "(9, 3, 1.000, galaxies, stars)\n",
      "(9, 4, 1.000, galaxies, stars)\n",
      "(9, 5, 1.000, galaxies, agn)\n",
      "(9, 6, 1.000, galaxies, cosmology)\n",
      "(9, 7, 1.000, galaxies, compact_objects)\n",
      "(9, 8, 1.000, galaxies, cosmology)\n",
      "(9, 10, 1.000, galaxies, cosmology)\n",
      "(9, 11, 1.000, galaxies, exoplanets)\n",
      "(9, 12, 1.000, galaxies, exoplanets)\n",
      "(9, 13, 1.000, galaxies, exoplanets)\n",
      "(9, 14, 1.000, galaxies, exoplanets)\n",
      "(10, 0, 1.000, cosmology, galaxies)\n",
      "(10, 1, 0.010, cosmology, cosmology)\n",
      "(10, 4, 1.000, cosmology, stars)\n",
      "(10, 5, 1.000, cosmology, agn)\n",
      "(10, 6, 0.010, cosmology, cosmology)\n",
      "(10, 7, 1.000, cosmology, compact_objects)\n",
      "(10, 8, 0.010, cosmology, cosmology)\n",
      "(10, 9, 1.000, cosmology, galaxies)\n",
      "(10, 11, 1.000, cosmology, exoplanets)\n",
      "(10, 12, 1.000, cosmology, exoplanets)\n",
      "(10, 13, 1.000, cosmology, exoplanets)\n",
      "(10, 14, 1.000, cosmology, exoplanets)\n",
      "(11, 0, 1.000, exoplanets, galaxies)\n",
      "(11, 1, 1.000, exoplanets, cosmology)\n",
      "(11, 2, 1.000, exoplanets, stars)\n",
      "(11, 3, 1.000, exoplanets, stars)\n",
      "(11, 4, 1.000, exoplanets, stars)\n",
      "(11, 6, 1.000, exoplanets, cosmology)\n",
      "(11, 9, 1.000, exoplanets, galaxies)\n",
      "(11, 10, 1.000, exoplanets, cosmology)\n",
      "(11, 13, 0.010, exoplanets, exoplanets)\n",
      "(11, 14, 0.010, exoplanets, exoplanets)\n",
      "(12, 0, 1.000, exoplanets, galaxies)\n",
      "(12, 1, 1.000, exoplanets, cosmology)\n",
      "(12, 2, 1.000, exoplanets, stars)\n",
      "(12, 3, 1.000, exoplanets, stars)\n",
      "(12, 4, 1.000, exoplanets, stars)\n",
      "(12, 6, 1.000, exoplanets, cosmology)\n",
      "(12, 9, 1.000, exoplanets, galaxies)\n",
      "(12, 10, 1.000, exoplanets, cosmology)\n",
      "(12, 13, 0.010, exoplanets, exoplanets)\n",
      "(12, 14, 0.010, exoplanets, exoplanets)\n",
      "(13, 0, 1.000, exoplanets, galaxies)\n",
      "(13, 1, 1.000, exoplanets, cosmology)\n",
      "(13, 2, 1.000, exoplanets, stars)\n",
      "(13, 3, 1.000, exoplanets, stars)\n",
      "(13, 4, 1.000, exoplanets, stars)\n",
      "(13, 5, 1.000, exoplanets, agn)\n",
      "(13, 6, 1.000, exoplanets, cosmology)\n",
      "(13, 7, 1.000, exoplanets, compact_objects)\n",
      "(13, 8, 1.000, exoplanets, cosmology)\n",
      "(13, 9, 1.000, exoplanets, galaxies)\n",
      "(13, 10, 1.000, exoplanets, cosmology)\n",
      "(13, 11, 0.010, exoplanets, exoplanets)\n",
      "(13, 12, 0.010, exoplanets, exoplanets)\n",
      "(13, 14, 0.010, exoplanets, exoplanets)\n",
      "(14, 0, 1.000, exoplanets, galaxies)\n",
      "(14, 1, 1.000, exoplanets, cosmology)\n",
      "(14, 2, 1.000, exoplanets, stars)\n",
      "(14, 3, 1.000, exoplanets, stars)\n",
      "(14, 4, 1.000, exoplanets, stars)\n",
      "(14, 5, 1.000, exoplanets, agn)\n",
      "(14, 7, 1.000, exoplanets, compact_objects)\n",
      "(14, 8, 1.000, exoplanets, cosmology)\n",
      "(14, 9, 1.000, exoplanets, galaxies)\n",
      "(14, 10, 1.000, exoplanets, cosmology)\n",
      "(14, 11, 0.010, exoplanets, exoplanets)\n",
      "(14, 12, 0.010, exoplanets, exoplanets)\n",
      "(14, 13, 0.010, exoplanets, exoplanets)\n"
     ]
    }
   ],
   "source": [
    "for n,nbrs in G.adjacency_iter():\n",
    "    for nbr,eattr in nbrs.items():\n",
    "        data=eattr['weight']\n",
    "        print('(%d, %d, %.3f, %s, %s)' % (n,nbr,data,G.node[n][\"topic2\"], G.node[nbr][\"topic2\"]))"
   ]
  },
  {
   "cell_type": "markdown",
   "metadata": {},
   "source": [
    "Cool, that seems to work. Next up is the backtracking:"
   ]
  },
  {
   "cell_type": "code",
   "execution_count": 423,
   "metadata": {
    "collapsed": true
   },
   "outputs": [],
   "source": [
    "def find_groups_with_backtracking(G, groups, n_elements, n_unused):\n",
    "\n",
    "    assert G.number_of_nodes() % np.float(n_elements) == 0, \"Number of sessions must be \" + \\\n",
    "                                \"an integer multiple of n_elements\"\n",
    "\n",
    "    label = \"topic\" ## quick hack for testing, will take care of labels later!\n",
    "    \n",
    "    ## base case\n",
    "    if n_unused == 0:\n",
    "        return True\n",
    "    \n",
    "    else:\n",
    "        ## find all cliques in the graph G\n",
    "        cliques = list(nx.enumerate_all_cliques(G))\n",
    "    \n",
    "        ## find all cliques that have the required number of elements\n",
    "        cliques = [c for c in cliques if len(c)==n_elements]\n",
    "\n",
    "        ## find the total number of cliques with n_elements members\n",
    "        ncliques = len(cliques)\n",
    "\n",
    "        for cl in cliques:\n",
    "            cl_topics = [G.node[c] for c in cl]\n",
    "            \n",
    "            ## add the new clique to the list of output groups\n",
    "            groups.append(zip(cl, cl_topics))\n",
    "            G_new = copy.deepcopy(G)\n",
    "    \n",
    "            ## remove clique from graph\n",
    "            for n in cl:\n",
    "                G_new.remove_node(n)\n",
    "    \n",
    "            ## compute new unused number of nodes\n",
    "            n_unused = G_new.number_of_nodes()\n",
    "    \n",
    "            ## if no unused nodes are left, return the selected groups,\n",
    "            ## otherwise recurse\n",
    "            if find_groups_with_backtracking(G_new, groups, n_elements, n_unused):\n",
    "                return True\n",
    "            \n",
    "            else:\n",
    "                groups.pop(-1)\n",
    "                \n"
   ]
  },
  {
   "cell_type": "code",
   "execution_count": 430,
   "metadata": {
    "collapsed": false
   },
   "outputs": [],
   "source": [
    "groups = []\n",
    "n_elements = 3\n",
    "n_unused = G.number_of_nodes()\n",
    "_ = find_groups_with_backtracking(G, groups, n_elements, n_unused)"
   ]
  },
  {
   "cell_type": "code",
   "execution_count": 431,
   "metadata": {
    "collapsed": false
   },
   "outputs": [
    {
     "data": {
      "text/plain": [
       "[[(0, {'topic': 'compact_objects', 'topic2': 'galaxies'}),\n",
       "  (2, {'topic': 'agn', 'topic2': 'stars'}),\n",
       "  (5, {'topic': 'cosmology', 'topic2': 'agn'})],\n",
       " [(1, {'topic': 'compact_objects', 'topic2': 'cosmology'}),\n",
       "  (3, {'topic': 'agn', 'topic2': 'stars'}),\n",
       "  (7, {'topic': 'cosmology', 'topic2': 'compact_objects'})],\n",
       " [(4, {'topic': 'stars', 'topic2': 'stars'}),\n",
       "  (6, {'topic': 'exoplanets', 'topic2': 'cosmology'}),\n",
       "  (8, {'topic': 'cosmology', 'topic2': 'cosmology'})],\n",
       " [(9, {'topic': 'compact_objects', 'topic2': 'galaxies'}),\n",
       "  (10, {'topic': 'agn', 'topic2': 'cosmology'}),\n",
       "  (11, {'topic': 'cosmology', 'topic2': 'exoplanets'})],\n",
       " [(12, {'topic': 'cosmology', 'topic2': 'exoplanets'}),\n",
       "  (13, {'topic': 'galaxies', 'topic2': 'exoplanets'}),\n",
       "  (14, {'topic': 'exoplanets', 'topic2': 'exoplanets'})]]"
      ]
     },
     "execution_count": 431,
     "metadata": {},
     "output_type": "execute_result"
    }
   ],
   "source": [
    "groups"
   ]
  },
  {
   "cell_type": "markdown",
   "metadata": {},
   "source": [
    "## Including multiple topics and weights\n",
    "\n",
    "Let's try a more complex problem: each session now has two attributes. The first attribute must not clash, but the second might with some weight:"
   ]
  },
  {
   "cell_type": "code",
   "execution_count": 338,
   "metadata": {
    "collapsed": true
   },
   "outputs": [],
   "source": [
    "session_labels2 = np.random.choice(topics, size=sessions.shape[0])"
   ]
  },
  {
   "cell_type": "code",
   "execution_count": 341,
   "metadata": {
    "collapsed": false
   },
   "outputs": [],
   "source": [
    "for i in xrange(len(session_labels2)):\n",
    "    G.node[i][\"topic2\"] = session_labels2[i]"
   ]
  },
  {
   "cell_type": "code",
   "execution_count": 356,
   "metadata": {
    "collapsed": false
   },
   "outputs": [
    {
     "data": {
      "text/plain": [
       "[(0, {'topic': 'compact_objects', 'topic2': 'galaxies'}),\n",
       " (1, {'topic': 'compact_objects', 'topic2': 'cosmology'}),\n",
       " (2, {'topic': 'agn', 'topic2': 'stars'}),\n",
       " (3, {'topic': 'agn', 'topic2': 'stars'}),\n",
       " (4, {'topic': 'stars', 'topic2': 'stars'}),\n",
       " (5, {'topic': 'cosmology', 'topic2': 'agn'}),\n",
       " (6, {'topic': 'exoplanets', 'topic2': 'cosmology'}),\n",
       " (7, {'topic': 'cosmology', 'topic2': 'compact_objects'}),\n",
       " (8, {'topic': 'cosmology', 'topic2': 'cosmology'}),\n",
       " (9, {'topic': 'compact_objects', 'topic2': 'galaxies'}),\n",
       " (10, {'topic': 'agn', 'topic2': 'cosmology'}),\n",
       " (11, {'topic': 'cosmology', 'topic2': 'exoplanets'}),\n",
       " (12, {'topic': 'cosmology', 'topic2': 'exoplanets'}),\n",
       " (13, {'topic': 'galaxies', 'topic2': 'exoplanets'}),\n",
       " (14, {'topic': 'exoplanets', 'topic2': 'exoplanets'})]"
      ]
     },
     "execution_count": 356,
     "metadata": {},
     "output_type": "execute_result"
    }
   ],
   "source": [
    "G.nodes(data=True)"
   ]
  },
  {
   "cell_type": "markdown",
   "metadata": {},
   "source": [
    "We've already changed `add_edges` so it can deal with multiple labels. Now we need to add the weights to the recursion. The weights essentially modify the edges in such a way that cliques with a smaller weight will have less of a chance to be picked:"
   ]
  },
  {
   "cell_type": "code",
   "execution_count": 447,
   "metadata": {
    "collapsed": false
   },
   "outputs": [
    {
     "data": {
      "text/plain": [
       "{'weight': 1.0}"
      ]
     },
     "execution_count": 447,
     "metadata": {},
     "output_type": "execute_result"
    }
   ],
   "source": [
    "G[0][2]"
   ]
  },
  {
   "cell_type": "code",
   "execution_count": 712,
   "metadata": {
    "collapsed": true
   },
   "outputs": [],
   "source": [
    "def _sort_cliques_by_weights(G, cliques, n_elements):\n",
    "    \"\"\"\n",
    "    Sort cliques by their weights.\n",
    "    \n",
    "    Parameters\n",
    "    ----------\n",
    "    G : networkx.Graph instance\n",
    "        Undirected graph with nodes and edges.\n",
    "        Edges must have attribute 'weight'\n",
    "        \n",
    "    cliques : iterable\n",
    "        A list of lists; inner lists must have n_elements members\n",
    "    \n",
    "    n_elements : integer\n",
    "        The number of elements in each clique\n",
    "        \n",
    "    Returns\n",
    "    -------\n",
    "    cliques : iterable\n",
    "        All cliques sorted by weights in descending order\n",
    "        \n",
    "    summed_weights : iterable\n",
    "        The list of summed weights, sorted in the \n",
    "        same descending order as cliques\n",
    "    \n",
    "    \"\"\"\n",
    "    ## compute summed weights for all cliques:\n",
    "    summed_weights = []\n",
    "    for cl in cliques:\n",
    "        ww = 0\n",
    "        for i in xrange(n_elements):\n",
    "            for j in xrange(n_elements):\n",
    "                if i >= j:\n",
    "                    continue\n",
    "                else:\n",
    "                    ww += G[cl[i]][cl[j]][\"weight\"]\n",
    "\n",
    "        summed_weights.append(ww)\n",
    "\n",
    "    ## sort cliques from highest weight to smallest\n",
    "    sorted_cliques = cliques[np.argsort(summed_weights)[::-1]]\n",
    "    ## sort weights in the same way\n",
    "    summed_weights = np.sort(summed_weights)[::-1]\n",
    "\n",
    "    return sorted_cliques, summed_weights\n",
    "\n",
    "\n",
    "\n",
    "def find_groups_with_weights(G, n_elements, n_unused=None, results=None):\n",
    "    \"\"\"\n",
    "    Sort nodes in G into groups of n_elements members such that \n",
    "    the total sum of weights is maximized. \n",
    "    If the graph includes hard constraints on the relationship between \n",
    "    nodes (i.e. missing edges), it is possible that no solution is found.\n",
    "    \n",
    "    In the case of a fully connected graph, the solution will be that \n",
    "    which maximizes the weights. The weights are inherent attributes of \n",
    "    the Graph and must be calculated beforehand (see `add_edges` for details).\n",
    "    \n",
    "    Parameters\n",
    "    ----------\n",
    "    G : networkx.Graph() instance\n",
    "        Undirected graph with nodes and edges. The edges must have weights \n",
    "        between 0 and 1, but edges can be missing if no relationship exists \n",
    "        between nodes.\n",
    "        \n",
    "    groups : iterable\n",
    "        A list of lists containing all groups of n_elements members fulfilling \n",
    "        the connectivity constraints that maximize the sum of weights of all \n",
    "        groups being used.\n",
    "        Should be initialized with an empty list, will be modified during the \n",
    "        recursion to be filled with the groups.\n",
    "        \n",
    "    n_elements : integer\n",
    "        The number of elements per group. Must be an integer divisor of the \n",
    "        total number of nodes in the graph.\n",
    "        \n",
    "    n_unused : integer\n",
    "        The number of unused nodes in the graph at every recursion step. \n",
    "        If None, then it will be initialized as the total number of nodes\n",
    "        in the graph.\n",
    "    \n",
    "    weights_total_sum : list\n",
    "        The total sum of weights of elements in `groups`. \n",
    "        If None, then it will be initialized as an empty list to count \n",
    "        the sum of weights for each individual group. Will be summed at \n",
    "        the end before output into a float value.\n",
    "        Note: DO NOT SET THIS AT THE BEGINNING OF THE RUN!\n",
    "        \n",
    "    Returns\n",
    "    -------\n",
    "    success : bool\n",
    "        Flag indicating success or failure of the algorithm\n",
    "        \n",
    "    groups: iterable\n",
    "        A list of lists containing all groups of n_elements members fulfilling \n",
    "        the connectivity constraints that maximize the sum of weights of all \n",
    "        groups being used.        \n",
    "        \n",
    "    weights_total_sum : float\n",
    "        The total sum of all weights of the output groups\n",
    "    \n",
    "    \"\"\"\n",
    "    assert G.number_of_nodes() % np.float(n_elements) == 0, \"Number of sessions must be \" + \\\n",
    "                                \"an integer multiple of n_elements\"\n",
    "\n",
    "    ## if weights_total_sum isn't set, initialize empty list\n",
    "    if weights_total_sum is None:\n",
    "        weights_total_sum = []\n",
    "        \n",
    "    if n_unused is None:\n",
    "        n_unused = G.number_of_nodes()\n",
    "\n",
    "    ## base case\n",
    "    if n_unused == 0:\n",
    "        return True, groups, np.sum(weights_total_sum)\n",
    "\n",
    "    ## recursion\n",
    "    else:\n",
    "        ## find all cliques in the graph G\n",
    "        cliques = list(nx.enumerate_all_cliques(G))\n",
    "    \n",
    "        ## find all cliques that have the required number of elements\n",
    "        cliques = np.array([c for c in cliques if len(c)==n_elements])\n",
    "\n",
    "        ## sort cliques by weights\n",
    "        cliques, summed_weights = _sort_cliques_by_weights(G, cliques, n_elements)\n",
    "\n",
    "        ## find the total number of cliques with n_elements members\n",
    "        ncliques = len(cliques)\n",
    "\n",
    "        ## loop over all cliques:\n",
    "        for cl,ww in zip(cliques, summed_weights):\n",
    "\n",
    "            cl_topics = [G.node[c] for c in cl]\n",
    "            \n",
    "            ## add the new clique to the list of output groups\n",
    "            groups.append(zip(cl, cl_topics))\n",
    "            \n",
    "            ## add total weight of the clique:\n",
    "            weights_total_sum.append(ww)\n",
    "            \n",
    "            ## make a new deep copy for the next recursion step\n",
    "            G_new = copy.deepcopy(G)\n",
    "    \n",
    "            ## remove clique from graph\n",
    "            for n in cl:\n",
    "                G_new.remove_node(n)\n",
    "    \n",
    "            ## compute new unused number of nodes\n",
    "            n_unused = G_new.number_of_nodes()\n",
    "    \n",
    "            ## if no unused nodes are left, return the selected groups,\n",
    "            ## otherwise recurse\n",
    "            if find_groups_with_weights(G_new, groups, n_elements, n_unused, weights_total_sum):\n",
    "                return True, groups, np.sum(weights_total_sum)\n",
    "            \n",
    "            ## backtrack\n",
    "            else:\n",
    "                groups.pop(-1)\n",
    "                weights_total_sum.pop(-1)\n",
    "    #return False, groups, weights_total_sum\n"
   ]
  },
  {
   "cell_type": "code",
   "execution_count": 713,
   "metadata": {
    "collapsed": false
   },
   "outputs": [],
   "source": [
    "groups = []\n",
    "n_elements = 3\n",
    "success, groups, weights_total_sum= find_groups_with_weights(G, groups, n_elements)"
   ]
  },
  {
   "cell_type": "code",
   "execution_count": 714,
   "metadata": {
    "collapsed": false
   },
   "outputs": [
    {
     "data": {
      "text/plain": [
       "True"
      ]
     },
     "execution_count": 714,
     "metadata": {},
     "output_type": "execute_result"
    }
   ],
   "source": [
    "success"
   ]
  },
  {
   "cell_type": "code",
   "execution_count": 715,
   "metadata": {
    "collapsed": false
   },
   "outputs": [
    {
     "data": {
      "text/plain": [
       "[[(2, {'topic': 'agn', 'topic2': 'stars'}),\n",
       "  (8, {'topic': 'cosmology', 'topic2': 'cosmology'}),\n",
       "  (14, {'topic': 'exoplanets', 'topic2': 'exoplanets'})],\n",
       " [(4, {'topic': 'stars', 'topic2': 'stars'}),\n",
       "  (5, {'topic': 'cosmology', 'topic2': 'agn'}),\n",
       "  (13, {'topic': 'galaxies', 'topic2': 'exoplanets'})],\n",
       " [(9, {'topic': 'compact_objects', 'topic2': 'galaxies'}),\n",
       "  (10, {'topic': 'agn', 'topic2': 'cosmology'}),\n",
       "  (12, {'topic': 'cosmology', 'topic2': 'exoplanets'})],\n",
       " [(1, {'topic': 'compact_objects', 'topic2': 'cosmology'}),\n",
       "  (3, {'topic': 'agn', 'topic2': 'stars'}),\n",
       "  (11, {'topic': 'cosmology', 'topic2': 'exoplanets'})],\n",
       " [(0, {'topic': 'compact_objects', 'topic2': 'galaxies'}),\n",
       "  (6, {'topic': 'exoplanets', 'topic2': 'cosmology'}),\n",
       "  (7, {'topic': 'cosmology', 'topic2': 'compact_objects'})]]"
      ]
     },
     "execution_count": 715,
     "metadata": {},
     "output_type": "execute_result"
    }
   ],
   "source": [
    "groups"
   ]
  },
  {
   "cell_type": "code",
   "execution_count": 716,
   "metadata": {
    "collapsed": false
   },
   "outputs": [
    {
     "data": {
      "text/plain": [
       "15.0"
      ]
     },
     "execution_count": 716,
     "metadata": {},
     "output_type": "execute_result"
    }
   ],
   "source": [
    "weights_total_sum"
   ]
  },
  {
   "cell_type": "markdown",
   "metadata": {},
   "source": [
    "Seems to work fine! Let's try a different set of elements:"
   ]
  },
  {
   "cell_type": "code",
   "execution_count": 717,
   "metadata": {
    "collapsed": false
   },
   "outputs": [],
   "source": [
    "groups = []\n",
    "n_elements = 5\n",
    "success = find_groups_with_weights(G, groups, n_elements, n_unused=G.number_of_nodes())"
   ]
  },
  {
   "cell_type": "code",
   "execution_count": 718,
   "metadata": {
    "collapsed": false
   },
   "outputs": [],
   "source": [
    "success"
   ]
  },
  {
   "cell_type": "markdown",
   "metadata": {},
   "source": [
    "Testing the function with an objective version of the results.\n",
    "\n",
    "This seems to work! At least it doesn't fail if no solution is found."
   ]
  },
  {
   "cell_type": "code",
   "execution_count": 869,
   "metadata": {
    "collapsed": false
   },
   "outputs": [],
   "source": [
    "class Results(object):\n",
    "    \n",
    "    def __init__(self, n_elements):\n",
    "        self.n_elements = n_elements\n",
    "        self.groups = []\n",
    "        self.all_weights = []\n",
    "        self.success = True\n",
    "        \n",
    "    def update_groups(self, groups):\n",
    "        self.groups.append(groups)\n",
    "        \n",
    "    def update_weights(self, weights_sum_total):\n",
    "        self.all_weights.append(weights_sum_total)\n",
    "        self.weights_sum_total = np.sum(self.all_weights)\n",
    "\n",
    "def find_groups_with_weights(G, n_elements, n_unused=None, results=None):\n",
    "    \"\"\"\n",
    "    Sort nodes in G into groups of n_elements members such that \n",
    "    the total sum of weights is maximized. \n",
    "    If the graph includes hard constraints on the relationship between \n",
    "    nodes (i.e. missing edges), it is possible that no solution is found.\n",
    "    \n",
    "    In the case of a fully connected graph, the solution will be that \n",
    "    which maximizes the weights. The weights are inherent attributes of \n",
    "    the Graph and must be calculated beforehand (see `add_edges` for details).\n",
    "    \n",
    "    Parameters\n",
    "    ----------\n",
    "    G : networkx.Graph() instance\n",
    "        Undirected graph with nodes and edges. The edges must have weights \n",
    "        between 0 and 1, but edges can be missing if no relationship exists \n",
    "        between nodes.\n",
    "        \n",
    "    groups : iterable\n",
    "        A list of lists containing all groups of n_elements members fulfilling \n",
    "        the connectivity constraints that maximize the sum of weights of all \n",
    "        groups being used.\n",
    "        Should be initialized with an empty list, will be modified during the \n",
    "        recursion to be filled with the groups.\n",
    "        \n",
    "    n_elements : integer\n",
    "        The number of elements per group. Must be an integer divisor of the \n",
    "        total number of nodes in the graph.\n",
    "        \n",
    "    n_unused : integer\n",
    "        The number of unused nodes in the graph at every recursion step. \n",
    "        If None, then it will be initialized as the total number of nodes\n",
    "        in the graph.\n",
    "    \n",
    "    weights_total_sum : list\n",
    "        The total sum of weights of elements in `groups`. \n",
    "        If None, then it will be initialized as an empty list to count \n",
    "        the sum of weights for each individual group. Will be summed at \n",
    "        the end before output into a float value.\n",
    "        Note: DO NOT SET THIS AT THE BEGINNING OF THE RUN!\n",
    "        \n",
    "    Returns\n",
    "    -------\n",
    "    success : bool\n",
    "        Flag indicating success or failure of the algorithm\n",
    "        \n",
    "    groups: iterable\n",
    "        A list of lists containing all groups of n_elements members fulfilling \n",
    "        the connectivity constraints that maximize the sum of weights of all \n",
    "        groups being used.        \n",
    "        \n",
    "    weights_total_sum : float\n",
    "        The total sum of all weights of the output groups\n",
    "    \n",
    "    \"\"\"\n",
    "\n",
    "    assert G.number_of_nodes() % np.float(n_elements) == 0, \"Number of sessions must be \" + \\\n",
    "                                \"an integer multiple of n_elements\"\n",
    "\n",
    "   \n",
    "    ## initialize results object\n",
    "    if results is None:\n",
    "        results = Results(n_elements)\n",
    "        \n",
    "    if n_unused is None:\n",
    "        n_unused = G.number_of_nodes()\n",
    "\n",
    "\n",
    "    ## base case\n",
    "    if n_unused == 0:\n",
    "        results.success = True\n",
    "        return results\n",
    "\n",
    "    ## recursion\n",
    "    else:\n",
    "        ## find all cliques in the graph G\n",
    "        cliques = list(nx.enumerate_all_cliques(G))\n",
    "    \n",
    "        ## find all cliques that have the required number of elements\n",
    "        cliques = np.array([c for c in cliques if len(c)==n_elements])\n",
    "\n",
    "        ## sort cliques by weights\n",
    "        cliques, summed_weights = _sort_cliques_by_weights(G, cliques, n_elements)\n",
    "\n",
    "        ## find the total number of cliques with n_elements members\n",
    "        ncliques = len(cliques)\n",
    "\n",
    "        ## loop over all cliques:\n",
    "        for g,(cl,ww) in enumerate(zip(cliques, summed_weights)):\n",
    "            cl_topics = [G.node[c] for c in cl]\n",
    "            \n",
    "            ## add the new clique to the list of output groups\n",
    "            results.update_groups(zip(cl, cl_topics))\n",
    "            \n",
    "            ## add total weight of the clique:\n",
    "            results.update_weights(ww)\n",
    "            \n",
    "            ## make a new deep copy for the next recursion step\n",
    "            G_new = copy.deepcopy(G)\n",
    "    \n",
    "            ## remove clique from graph\n",
    "            for n in cl:\n",
    "                G_new.remove_node(n)\n",
    "    \n",
    "            ## compute new unused number of nodes\n",
    "            n_unused = G_new.number_of_nodes()\n",
    "    \n",
    "            ## if no unused nodes are left, return the selected groups,\n",
    "            ## otherwise recurse\n",
    "            results = find_groups_with_weights(G_new, n_elements, n_unused, results)\n",
    "            if results is not None:\n",
    "                if results.success:\n",
    "                        return results\n",
    "            \n",
    "            ## backtrack\n",
    "            else:\n",
    "                results.success = False\n",
    "                results.groups.pop(-1)\n",
    "                results.all_weights.pop(-1)\n",
    "                continue\n",
    "    \n",
    "    if len(results.groups) == 0:\n",
    "        print(\"No solution found!\")\n",
    "        results.success = False\n",
    "        return results\n",
    "\n",
    "    else:\n",
    "        results.groups.pop(-1)\n",
    "        results.all_weights.pop(-1)\n",
    "\n",
    "        results.success = False\n",
    "        return results\n",
    "\n"
   ]
  },
  {
   "cell_type": "code",
   "execution_count": 884,
   "metadata": {
    "collapsed": false
   },
   "outputs": [
    {
     "name": "stdout",
     "output_type": "stream",
     "text": [
      "2\n",
      "weights: [ 0.1]\n"
     ]
    }
   ],
   "source": [
    "G.remove_edges_from(G.edges())\n",
    "G = add_edges(G, labels=[\"topic\", \"topic2\"])"
   ]
  },
  {
   "cell_type": "code",
   "execution_count": 885,
   "metadata": {
    "collapsed": false,
    "scrolled": true
   },
   "outputs": [],
   "source": [
    "n_elements = 3\n",
    "results = find_groups_with_weights(G, n_elements)"
   ]
  },
  {
   "cell_type": "code",
   "execution_count": 886,
   "metadata": {
    "collapsed": false
   },
   "outputs": [
    {
     "data": {
      "text/plain": [
       "[[(2, {'topic': 'agn', 'topic2': 'stars'}),\n",
       "  (8, {'topic': 'cosmology', 'topic2': 'cosmology'}),\n",
       "  (14, {'topic': 'exoplanets', 'topic2': 'exoplanets'})],\n",
       " [(4, {'topic': 'stars', 'topic2': 'stars'}),\n",
       "  (5, {'topic': 'cosmology', 'topic2': 'agn'}),\n",
       "  (13, {'topic': 'galaxies', 'topic2': 'exoplanets'})],\n",
       " [(9, {'topic': 'compact_objects', 'topic2': 'galaxies'}),\n",
       "  (10, {'topic': 'agn', 'topic2': 'cosmology'}),\n",
       "  (12, {'topic': 'cosmology', 'topic2': 'exoplanets'})],\n",
       " [(1, {'topic': 'compact_objects', 'topic2': 'cosmology'}),\n",
       "  (3, {'topic': 'agn', 'topic2': 'stars'}),\n",
       "  (11, {'topic': 'cosmology', 'topic2': 'exoplanets'})],\n",
       " [(0, {'topic': 'compact_objects', 'topic2': 'galaxies'}),\n",
       "  (6, {'topic': 'exoplanets', 'topic2': 'cosmology'}),\n",
       "  (7, {'topic': 'cosmology', 'topic2': 'compact_objects'})]]"
      ]
     },
     "execution_count": 886,
     "metadata": {},
     "output_type": "execute_result"
    }
   ],
   "source": [
    "results.groups"
   ]
  },
  {
   "cell_type": "code",
   "execution_count": 887,
   "metadata": {
    "collapsed": false
   },
   "outputs": [
    {
     "data": {
      "text/plain": [
       "15.0"
      ]
     },
     "execution_count": 887,
     "metadata": {},
     "output_type": "execute_result"
    }
   ],
   "source": [
    "results.weights_sum_total"
   ]
  },
  {
   "cell_type": "markdown",
   "metadata": {},
   "source": [
    "\n",
    "### Using soft constraints\n",
    "\n",
    "At the moment, I have the hard constraint in the model that if the first label is the same for two nodes, there will be *no* edge, which means that any model that can't be completely decomposed into cliques will not have a solution.\n",
    "Perhaps I ought to have a version without hard constraints? \n",
    "This basically includes a change in the `add_edges` function:"
   ]
  },
  {
   "cell_type": "code",
   "execution_count": 872,
   "metadata": {
    "collapsed": false
   },
   "outputs": [],
   "source": [
    "def add_edges_no_hard_constraint(G, labels, minweight=0.0, maxweight=0.9):\n",
    "    \n",
    "    ## find the total number of labels\n",
    "    nlabels = len(labels)\n",
    "\n",
    "    ## get a list of lists of all session labels\n",
    "    session_labels = []\n",
    "    for l in labels:\n",
    "        session_labels.append([G.node[i][l] for i in G.nodes()])\n",
    "    \n",
    "    ## the total number of sessions\n",
    "    nsessions = len(sessions)\n",
    "    \n",
    "    ## weights for the different attributes\n",
    "    weights = np.linspace(minweight, maxweight, nlabels)\n",
    "    \n",
    "    print(\"weights: \" + str(weights))\n",
    "    ## iterate over all the different possible labels \n",
    "    for i, sl in enumerate(session_labels):\n",
    "        ## iterate over all nodes\n",
    "        for k in xrange(nsessions):\n",
    "            for l in xrange(nsessions):\n",
    "                ## if sessions have the same label, \n",
    "                ## either make no node (for first label), \n",
    "                ## or weaken a node that's already there\n",
    "                if sl[k] == sl[l]:\n",
    "                    if i == 0:\n",
    "                        G.add_edge(sessions[k],sessions[l],weight=weights[0])\n",
    "                    else:\n",
    "                        G[k][l][\"weight\"] *= weights[i]\n",
    "                else:\n",
    "                    if i == 0:\n",
    "                        G.add_edge(sessions[k],sessions[l],weight=1.0)\n",
    "                    else:\n",
    "                        continue\n",
    "    return G\n",
    "\n",
    "\n"
   ]
  },
  {
   "cell_type": "markdown",
   "metadata": {},
   "source": [
    "Let's redo the edges on the graph to exclude hard constraints and see what happens to our method:"
   ]
  },
  {
   "cell_type": "code",
   "execution_count": 873,
   "metadata": {
    "collapsed": false
   },
   "outputs": [],
   "source": [
    "## remove all edges\n",
    "G.remove_edges_from(G.edges())"
   ]
  },
  {
   "cell_type": "code",
   "execution_count": 874,
   "metadata": {
    "collapsed": false
   },
   "outputs": [
    {
     "name": "stdout",
     "output_type": "stream",
     "text": [
      "weights: [ 0.   0.9]\n"
     ]
    }
   ],
   "source": [
    "G = add_edges_no_hard_constraint(G, [\"topic\", \"topic2\"])"
   ]
  },
  {
   "cell_type": "code",
   "execution_count": 875,
   "metadata": {
    "collapsed": false,
    "scrolled": true
   },
   "outputs": [
    {
     "data": {
      "text/plain": [
       "[(0, 0, {'weight': 0.0}),\n",
       " (0, 1, {'weight': 0.0}),\n",
       " (0, 2, {'weight': 1.0}),\n",
       " (0, 3, {'weight': 1.0}),\n",
       " (0, 4, {'weight': 1.0}),\n",
       " (0, 5, {'weight': 1.0}),\n",
       " (0, 6, {'weight': 1.0}),\n",
       " (0, 7, {'weight': 1.0}),\n",
       " (0, 8, {'weight': 1.0}),\n",
       " (0, 9, {'weight': 0.0}),\n",
       " (0, 10, {'weight': 1.0}),\n",
       " (0, 11, {'weight': 1.0}),\n",
       " (0, 12, {'weight': 1.0}),\n",
       " (0, 13, {'weight': 1.0}),\n",
       " (0, 14, {'weight': 1.0}),\n",
       " (1, 1, {'weight': 0.0}),\n",
       " (1, 2, {'weight': 1.0}),\n",
       " (1, 3, {'weight': 1.0}),\n",
       " (1, 4, {'weight': 1.0}),\n",
       " (1, 5, {'weight': 1.0}),\n",
       " (1, 6, {'weight': 0.81000000000000005}),\n",
       " (1, 7, {'weight': 1.0}),\n",
       " (1, 8, {'weight': 0.81000000000000005}),\n",
       " (1, 9, {'weight': 0.0}),\n",
       " (1, 10, {'weight': 0.81000000000000005}),\n",
       " (1, 11, {'weight': 1.0}),\n",
       " (1, 12, {'weight': 1.0}),\n",
       " (1, 13, {'weight': 1.0}),\n",
       " (1, 14, {'weight': 1.0}),\n",
       " (2, 2, {'weight': 0.0}),\n",
       " (2, 3, {'weight': 0.0}),\n",
       " (2, 4, {'weight': 0.81000000000000005}),\n",
       " (2, 5, {'weight': 1.0}),\n",
       " (2, 6, {'weight': 1.0}),\n",
       " (2, 7, {'weight': 1.0}),\n",
       " (2, 8, {'weight': 1.0}),\n",
       " (2, 9, {'weight': 1.0}),\n",
       " (2, 10, {'weight': 0.0}),\n",
       " (2, 11, {'weight': 1.0}),\n",
       " (2, 12, {'weight': 1.0}),\n",
       " (2, 13, {'weight': 1.0}),\n",
       " (2, 14, {'weight': 1.0}),\n",
       " (3, 3, {'weight': 0.0}),\n",
       " (3, 4, {'weight': 0.81000000000000005}),\n",
       " (3, 5, {'weight': 1.0}),\n",
       " (3, 6, {'weight': 1.0}),\n",
       " (3, 7, {'weight': 1.0}),\n",
       " (3, 8, {'weight': 1.0}),\n",
       " (3, 9, {'weight': 1.0}),\n",
       " (3, 10, {'weight': 0.0}),\n",
       " (3, 11, {'weight': 1.0}),\n",
       " (3, 12, {'weight': 1.0}),\n",
       " (3, 13, {'weight': 1.0}),\n",
       " (3, 14, {'weight': 1.0}),\n",
       " (4, 4, {'weight': 0.0}),\n",
       " (4, 5, {'weight': 1.0}),\n",
       " (4, 6, {'weight': 1.0}),\n",
       " (4, 7, {'weight': 1.0}),\n",
       " (4, 8, {'weight': 1.0}),\n",
       " (4, 9, {'weight': 1.0}),\n",
       " (4, 10, {'weight': 1.0}),\n",
       " (4, 11, {'weight': 1.0}),\n",
       " (4, 12, {'weight': 1.0}),\n",
       " (4, 13, {'weight': 1.0}),\n",
       " (4, 14, {'weight': 1.0}),\n",
       " (5, 5, {'weight': 0.0}),\n",
       " (5, 6, {'weight': 1.0}),\n",
       " (5, 7, {'weight': 0.0}),\n",
       " (5, 8, {'weight': 0.0}),\n",
       " (5, 9, {'weight': 1.0}),\n",
       " (5, 10, {'weight': 1.0}),\n",
       " (5, 11, {'weight': 0.0}),\n",
       " (5, 12, {'weight': 0.0}),\n",
       " (5, 13, {'weight': 1.0}),\n",
       " (5, 14, {'weight': 1.0}),\n",
       " (6, 6, {'weight': 0.0}),\n",
       " (6, 7, {'weight': 1.0}),\n",
       " (6, 8, {'weight': 0.81000000000000005}),\n",
       " (6, 9, {'weight': 1.0}),\n",
       " (6, 10, {'weight': 0.81000000000000005}),\n",
       " (6, 11, {'weight': 1.0}),\n",
       " (6, 12, {'weight': 1.0}),\n",
       " (6, 13, {'weight': 1.0}),\n",
       " (6, 14, {'weight': 0.0}),\n",
       " (7, 7, {'weight': 0.0}),\n",
       " (7, 8, {'weight': 0.0}),\n",
       " (7, 9, {'weight': 1.0}),\n",
       " (7, 10, {'weight': 1.0}),\n",
       " (7, 11, {'weight': 0.0}),\n",
       " (7, 12, {'weight': 0.0}),\n",
       " (7, 13, {'weight': 1.0}),\n",
       " (7, 14, {'weight': 1.0}),\n",
       " (8, 8, {'weight': 0.0}),\n",
       " (8, 9, {'weight': 1.0}),\n",
       " (8, 10, {'weight': 0.81000000000000005}),\n",
       " (8, 11, {'weight': 0.0}),\n",
       " (8, 12, {'weight': 0.0}),\n",
       " (8, 13, {'weight': 1.0}),\n",
       " (8, 14, {'weight': 1.0}),\n",
       " (9, 9, {'weight': 0.0}),\n",
       " (9, 10, {'weight': 1.0}),\n",
       " (9, 11, {'weight': 1.0}),\n",
       " (9, 12, {'weight': 1.0}),\n",
       " (9, 13, {'weight': 1.0}),\n",
       " (9, 14, {'weight': 1.0}),\n",
       " (10, 10, {'weight': 0.0}),\n",
       " (10, 11, {'weight': 1.0}),\n",
       " (10, 12, {'weight': 1.0}),\n",
       " (10, 13, {'weight': 1.0}),\n",
       " (10, 14, {'weight': 1.0}),\n",
       " (11, 11, {'weight': 0.0}),\n",
       " (11, 12, {'weight': 0.0}),\n",
       " (11, 13, {'weight': 0.81000000000000005}),\n",
       " (11, 14, {'weight': 0.81000000000000005}),\n",
       " (12, 12, {'weight': 0.0}),\n",
       " (12, 13, {'weight': 0.81000000000000005}),\n",
       " (12, 14, {'weight': 0.81000000000000005}),\n",
       " (13, 13, {'weight': 0.0}),\n",
       " (13, 14, {'weight': 0.81000000000000005}),\n",
       " (14, 14, {'weight': 0.0})]"
      ]
     },
     "execution_count": 875,
     "metadata": {},
     "output_type": "execute_result"
    }
   ],
   "source": [
    "G.edges(data=True)"
   ]
  },
  {
   "cell_type": "markdown",
   "metadata": {},
   "source": [
    "That looks about right. So let's redo the grouping:"
   ]
  },
  {
   "cell_type": "code",
   "execution_count": 876,
   "metadata": {
    "collapsed": true
   },
   "outputs": [],
   "source": [
    "n_elements = 3\n",
    "results = find_groups_with_weights(G, n_elements)"
   ]
  },
  {
   "cell_type": "code",
   "execution_count": 877,
   "metadata": {
    "collapsed": false
   },
   "outputs": [
    {
     "data": {
      "text/plain": [
       "True"
      ]
     },
     "execution_count": 877,
     "metadata": {},
     "output_type": "execute_result"
    }
   ],
   "source": [
    "results.success"
   ]
  },
  {
   "cell_type": "code",
   "execution_count": 878,
   "metadata": {
    "collapsed": false
   },
   "outputs": [
    {
     "data": {
      "text/plain": [
       "[[(4, {'topic': 'stars', 'topic2': 'stars'}),\n",
       "  (6, {'topic': 'exoplanets', 'topic2': 'cosmology'}),\n",
       "  (11, {'topic': 'cosmology', 'topic2': 'exoplanets'})],\n",
       " [(3, {'topic': 'agn', 'topic2': 'stars'}),\n",
       "  (7, {'topic': 'cosmology', 'topic2': 'compact_objects'}),\n",
       "  (14, {'topic': 'exoplanets', 'topic2': 'exoplanets'})],\n",
       " [(2, {'topic': 'agn', 'topic2': 'stars'}),\n",
       "  (8, {'topic': 'cosmology', 'topic2': 'cosmology'}),\n",
       "  (13, {'topic': 'galaxies', 'topic2': 'exoplanets'})],\n",
       " [(9, {'topic': 'compact_objects', 'topic2': 'galaxies'}),\n",
       "  (10, {'topic': 'agn', 'topic2': 'cosmology'}),\n",
       "  (12, {'topic': 'cosmology', 'topic2': 'exoplanets'})],\n",
       " [(0, {'topic': 'compact_objects', 'topic2': 'galaxies'}),\n",
       "  (1, {'topic': 'compact_objects', 'topic2': 'cosmology'}),\n",
       "  (5, {'topic': 'cosmology', 'topic2': 'agn'})]]"
      ]
     },
     "execution_count": 878,
     "metadata": {},
     "output_type": "execute_result"
    }
   ],
   "source": [
    "results.groups"
   ]
  },
  {
   "cell_type": "code",
   "execution_count": 880,
   "metadata": {
    "collapsed": false
   },
   "outputs": [
    {
     "data": {
      "text/plain": [
       "[3.0, 3.0, 3.0, 3.0, 2.0]"
      ]
     },
     "execution_count": 880,
     "metadata": {},
     "output_type": "execute_result"
    }
   ],
   "source": [
    "results.all_weights"
   ]
  },
  {
   "cell_type": "code",
   "execution_count": 879,
   "metadata": {
    "collapsed": false
   },
   "outputs": [
    {
     "data": {
      "text/plain": [
       "14.0"
      ]
     },
     "execution_count": 879,
     "metadata": {},
     "output_type": "execute_result"
    }
   ],
   "source": [
    "results.weights_sum_total"
   ]
  },
  {
   "cell_type": "markdown",
   "metadata": {},
   "source": [
    "When using soft constraints, one might not always end up with the optimal set. This is because there are *no* hard constraints, so the first full path through the tree will be returned as a valid entry. One thing one might do instead is initialize several times and include a random element in the algorithm to break ties. \n",
    "We can do that several times, and you're still not guaranteed to get the optimal path, but it should be better. The alternative is to record *all* solutions and then maximize brute-force over all of them. \n",
    "That seems like it would take a long time. "
   ]
  },
  {
   "cell_type": "code",
   "execution_count": null,
   "metadata": {
    "collapsed": true
   },
   "outputs": [],
   "source": []
  }
 ],
 "metadata": {
  "kernelspec": {
   "display_name": "Python 2",
   "language": "python",
   "name": "python2"
  },
  "language_info": {
   "codemirror_mode": {
    "name": "ipython",
    "version": 2
   },
   "file_extension": ".py",
   "mimetype": "text/x-python",
   "name": "python",
   "nbconvert_exporter": "python",
   "pygments_lexer": "ipython2",
   "version": "2.7.10"
  }
 },
 "nbformat": 4,
 "nbformat_minor": 0
}
